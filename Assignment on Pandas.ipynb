{
 "cells": [
  {
   "cell_type": "markdown",
   "id": "3b77df5c-280a-4818-bdc5-d249efdd6a16",
   "metadata": {},
   "source": [
    "# How to change index and names while creating the dataframe?, Question 1"
   ]
  },
  {
   "cell_type": "code",
   "execution_count": 1,
   "id": "2c847331-ebae-45a4-b262-2580f8503441",
   "metadata": {},
   "outputs": [],
   "source": [
    "import pandas as pd"
   ]
  },
  {
   "cell_type": "code",
   "execution_count": 2,
   "id": "d3acbb47-cd86-4ab3-a423-40dd98d17035",
   "metadata": {},
   "outputs": [],
   "source": [
    "# creating a sample dataframe\n",
    "data = {\"wisdom\": [10, 20, 30],\n",
    "        \"henry\": [40, 50, 60],\n",
    "        \"gift\": [70, 80, 90]\n",
    "}"
   ]
  },
  {
   "cell_type": "code",
   "execution_count": 3,
   "id": "7450ac29-e3f9-4d3f-9cf6-799fae8b58d8",
   "metadata": {},
   "outputs": [],
   "source": [
    "df = pd.DataFrame(data)"
   ]
  },
  {
   "cell_type": "code",
   "execution_count": 4,
   "id": "e1fbcdbd-a5d6-4f70-9b46-06dfd8266713",
   "metadata": {},
   "outputs": [],
   "source": [
    "# how to change index\n",
    "df.index = [\"Row1\", \"Row2\", \"Row3\"]"
   ]
  },
  {
   "cell_type": "code",
   "execution_count": 5,
   "id": "deb8d28e-a153-4544-900d-0a5c66eb413f",
   "metadata": {},
   "outputs": [
    {
     "name": "stdout",
     "output_type": "stream",
     "text": [
      "      king  fred  gift\n",
      "Row1    10    40    70\n",
      "Row2    20    50    80\n",
      "Row3    30    60    90\n"
     ]
    }
   ],
   "source": [
    "# how to renaming the columns\n",
    "df.rename(columns={\"wisdom\": \"king\", \"henry\": \"fred\", \"great\": \"Gamma\"}, inplace=True)\n",
    "\n",
    "# displace the modified DataFrame\n",
    "print(df)"
   ]
  },
  {
   "cell_type": "markdown",
   "id": "f2d7bbe2-cd9b-4a45-b65f-a838904f2e3f",
   "metadata": {},
   "source": [
    "# How to change index and names on existing dataframe?, quetion 2"
   ]
  },
  {
   "cell_type": "code",
   "execution_count": 6,
   "id": "75c763c0-5fb0-420b-adb2-c4444141106a",
   "metadata": {},
   "outputs": [],
   "source": [
    "import pandas as pd"
   ]
  },
  {
   "cell_type": "code",
   "execution_count": 7,
   "id": "1d396cff-8beb-433b-8ad4-48d619e1b040",
   "metadata": {},
   "outputs": [
    {
     "name": "stdout",
     "output_type": "stream",
     "text": [
      "original DataFrame:\n",
      "      Name  Age  Salary\n",
      "0  wisdom   30   40000\n",
      "1   henry   35   50000\n",
      "2     ola   40   60000 \n",
      "\n",
      "modified DataFrame:\n",
      "      Employee Name  Employee age  Annual Salary\n",
      "Emp1        wisdom            30          40000\n",
      "Emp2         henry            35          50000\n",
      "Emp3           ola            40          60000\n"
     ]
    }
   ],
   "source": [
    "# creating existing Dataframe \n",
    "df = pd.DataFrame({\n",
    "    \"Name\": [\"wisdom\", \"henry\", \"ola\"],\n",
    "    \"Age\": [30, 35, 40],\n",
    "    \"Salary\": [40000, 50000, 60000]\n",
    "})\n",
    "\n",
    "# displace original DataFrame\n",
    "print(\"original DataFrame:\\n\", df, \"\\n\")\n",
    "\n",
    "# changing the index and names to a new one\n",
    "df.index = [\"Emp1\", \"Emp2\", \"Emp3\"]\n",
    "\n",
    "# renaming columns\n",
    "df.rename(columns={\"Name\": \"Employee Name\", \"Age\": \"Employee age\", \"Salary\": \"Annual Salary\"}, inplace=True)\n",
    "\n",
    "# displace modified DataFrame\n",
    "print(\"modified DataFrame:\\n\",df)"
   ]
  },
  {
   "cell_type": "markdown",
   "id": "fd28a087-21d7-4ef1-8b4d-908977b287a0",
   "metadata": {},
   "source": [
    "# Create a dataframe from python dictionary?, Question 3"
   ]
  },
  {
   "cell_type": "code",
   "execution_count": 8,
   "id": "5ceee7c7-c74e-4148-a9a9-2860d81114ee",
   "metadata": {},
   "outputs": [],
   "source": [
    "import pandas as pd"
   ]
  },
  {
   "cell_type": "code",
   "execution_count": 9,
   "id": "60da8fe3-5184-448d-a95f-e8a6e5221a20",
   "metadata": {},
   "outputs": [
    {
     "name": "stdout",
     "output_type": "stream",
     "text": [
      "     Name  Age  Salary\n",
      "0  wisdom   30   40000\n",
      "1   henry   35   50000\n",
      "2     ola   40   60000\n"
     ]
    }
   ],
   "source": [
    "# creating a dictionary\n",
    "data = {\n",
    "    \"Name\": [\"wisdom\", \"henry\", \"ola\"],\n",
    "    \"Age\": [30,35,40],\n",
    "    \"Salary\": [40000, 50000, 60000]\n",
    "}\n",
    "\n",
    "# creating a DataFrame from the dictionary\n",
    "df = pd.DataFrame(data)\n",
    "\n",
    "# Displace the DataFrame\n",
    "print(df)"
   ]
  },
  {
   "cell_type": "code",
   "execution_count": null,
   "id": "4c4d2604-a8eb-41ca-8601-7bbed8c859f6",
   "metadata": {},
   "outputs": [],
   "source": []
  }
 ],
 "metadata": {
  "kernelspec": {
   "display_name": "Python 3 (ipykernel)",
   "language": "python",
   "name": "python3"
  },
  "language_info": {
   "codemirror_mode": {
    "name": "ipython",
    "version": 3
   },
   "file_extension": ".py",
   "mimetype": "text/x-python",
   "name": "python",
   "nbconvert_exporter": "python",
   "pygments_lexer": "ipython3",
   "version": "3.12.7"
  }
 },
 "nbformat": 4,
 "nbformat_minor": 5
}
